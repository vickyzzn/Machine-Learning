{
 "cells": [
  {
   "cell_type": "markdown",
   "metadata": {},
   "source": [
    "## Linear Algebra Review + How to do it in Python"
   ]
  },
  {
   "cell_type": "code",
   "execution_count": 18,
   "metadata": {
    "collapsed": true
   },
   "outputs": [],
   "source": [
    "## This is how we import modules\n",
    "from IPython.display import Math, Latex  # for writing latex code in jupyter"
   ]
  },
  {
   "cell_type": "markdown",
   "metadata": {},
   "source": [
    "#### Vectors and Matrices\n",
    "\n",
    "You have seen in lectures that it is useful to represent many quantities as vectors or matrices. For example you could describe a person as person(age, height, education) as a vector with different features representing dimensions. Similary, a collection of persons can be represented as stack of vectors ==> i.e., a matrix."
   ]
  },
  {
   "cell_type": "code",
   "execution_count": 13,
   "metadata": {},
   "outputs": [
    {
     "data": {
      "text/latex": [
       "\n",
       "\\begin{align*}\n",
       "&u = \\begin{bmatrix}x_1\\\\ x_2\\end{bmatrix}, \\quad\\quad v = \\begin{bmatrix}y_1\\\\ y_2\\end{bmatrix}\\\\\n",
       "&\\text{Length:} = \\lvert\\lvert u \\rvert\\rvert = \\sqrt{x_1^2 + x_2^2} \\\\\n",
       "&u + v = \\begin{bmatrix}x_1 + y_1\\\\ x_2 + y_2\\end{bmatrix}\n",
       "\\end{align*}\n",
       "\n",
       "\n"
      ],
      "text/plain": [
       "<IPython.core.display.Latex object>"
      ]
     },
     "execution_count": 13,
     "metadata": {},
     "output_type": "execute_result"
    }
   ],
   "source": [
    "# %%latex\n",
    "from IPython.display import Math,Latex\n",
    "Latex(r'''\n",
    "\\begin{align*}\n",
    "&u = \\begin{bmatrix}x_1\\\\ x_2\\end{bmatrix}, \\quad\\quad v = \\begin{bmatrix}y_1\\\\ y_2\\end{bmatrix}\\\\\n",
    "&\\text{Length:} = \\lvert\\lvert u \\rvert\\rvert = \\sqrt{x_1^2 + x_2^2} \\\\\n",
    "&u + v = \\begin{bmatrix}x_1 + y_1\\\\ x_2 + y_2\\end{bmatrix}\n",
    "\\end{align*}\n",
    "\n",
    "\n",
    "''')\n"
   ]
  },
  {
   "cell_type": "code",
   "execution_count": 10,
   "metadata": {},
   "outputs": [
    {
     "data": {
      "text/latex": [
       "\n",
       "\\begin{align*}\n",
       "\\text{Consider matrix } &X \\in \\mathbb{R}^{m\\times n} \\text{ given as:}\\\\\n",
       "X &= \\begin{bmatrix}\n",
       "    x_{11}       & x_{12} & x_{13} & \\dots & x_{1n} \\\\\n",
       "    x_{21}       & x_{22} & x_{23} & \\dots & x_{2n} \\\\\n",
       "    \\dots \\\\\n",
       "    x_{m1}       & x_{m2} & x_{m3} & \\dots & x_{mn}\n",
       "\\end{bmatrix}, \n",
       "Y = \\begin{bmatrix}\n",
       "    y_{11}       & y_{12} & y_{13} & \\dots & y_{1n} \\\\\n",
       "    y_{21}       & y_{22} & y_{23} & \\dots & y_{2n} \\\\\n",
       "    \\dots \\\\\n",
       "    y_{m1}       & y_{m2} & y_{m3} & \\dots & y_{mn}\n",
       "\\end{bmatrix}\\\\\\\\\n",
       "\n",
       "\\text{Sum:}\\quad &Z = X + Y; \\quad z_{ij} = x_{ij} + y_{ij}\n",
       "\\end{align*}\n"
      ],
      "text/plain": [
       "<IPython.core.display.Latex object>"
      ]
     },
     "execution_count": 10,
     "metadata": {},
     "output_type": "execute_result"
    }
   ],
   "source": [
    "Latex(r'''\n",
    "\\begin{align*}\n",
    "\\text{Consider matrix } &X \\in \\mathbb{R}^{m\\times n} \\text{ given as:}\\\\\n",
    "X &= \\begin{bmatrix}\n",
    "    x_{11}       & x_{12} & x_{13} & \\dots & x_{1n} \\\\\n",
    "    x_{21}       & x_{22} & x_{23} & \\dots & x_{2n} \\\\\n",
    "    \\dots \\\\\n",
    "    x_{m1}       & x_{m2} & x_{m3} & \\dots & x_{mn}\n",
    "\\end{bmatrix}, \n",
    "Y = \\begin{bmatrix}\n",
    "    y_{11}       & y_{12} & y_{13} & \\dots & y_{1n} \\\\\n",
    "    y_{21}       & y_{22} & y_{23} & \\dots & y_{2n} \\\\\n",
    "    \\dots \\\\\n",
    "    y_{m1}       & y_{m2} & y_{m3} & \\dots & y_{mn}\n",
    "\\end{bmatrix}\\\\\\\\\n",
    "\n",
    "\\text{Sum:}\\quad &Z = X + Y; \\quad z_{ij} = x_{ij} + y_{ij}\n",
    "\\end{align*}\n",
    "''')\n"
   ]
  },
  {
   "cell_type": "markdown",
   "metadata": {},
   "source": [
    "#### Matrices and Vectors (in Python)\n",
    "\n",
    "NUMPY: A supremely-optimized, well-maintained scientific computing package for Python. I’m still learning new things about it. I 'm sure you'll appreciate its prowess as you learn more."
   ]
  },
  {
   "cell_type": "code",
   "execution_count": 19,
   "metadata": {
    "collapsed": true
   },
   "outputs": [],
   "source": [
    "import numpy as np # conventional alias"
   ]
  },
  {
   "cell_type": "code",
   "execution_count": 20,
   "metadata": {
    "collapsed": true
   },
   "outputs": [],
   "source": [
    "X = np.array([[1, 2, 3],\n",
    " [4, 5, 6],\n",
    " [7, 8, 9]])\n",
    "u = np.array([[1],\n",
    " [2],\n",
    " [3]])"
   ]
  },
  {
   "cell_type": "code",
   "execution_count": 21,
   "metadata": {},
   "outputs": [
    {
     "name": "stdout",
     "output_type": "stream",
     "text": [
      "[[1 2 3]\n",
      " [4 5 6]\n",
      " [7 8 9]]\n",
      "shape: (3, 3)\n",
      "dim (axes): 2\n",
      "type of elements: int64\n",
      "size of elements: 8\n",
      "size: 9\n",
      "type: <class 'numpy.ndarray'>\n"
     ]
    }
   ],
   "source": [
    "## matrix\n",
    "print(X)\n",
    "print(\"shape:\", X.shape) \n",
    "print(\"dim (axes):\", X.ndim) \n",
    "print(\"type of elements:\", X.dtype.name) \n",
    "print(\"size of elements:\", X.itemsize) \n",
    "print(\"size:\", X.size) \n",
    "print(\"type:\", type(X)) "
   ]
  },
  {
   "cell_type": "code",
   "execution_count": 22,
   "metadata": {},
   "outputs": [
    {
     "name": "stdout",
     "output_type": "stream",
     "text": [
      "[[1]\n",
      " [2]\n",
      " [3]]\n",
      "shape: (3, 1)\n",
      "dim (axes): 2\n",
      "type of elements: int64\n",
      "size of elements: 8\n",
      "size: 3\n",
      "type: <class 'numpy.ndarray'>\n"
     ]
    }
   ],
   "source": [
    "## vector\n",
    "print(u)\n",
    "print(\"shape:\", u.shape) \n",
    "print(\"dim (axes):\", u.ndim) \n",
    "print(\"type of elements:\", u.dtype.name) \n",
    "print(\"size of elements:\", u.itemsize) \n",
    "print(\"size:\", u.size) \n",
    "print(\"type:\", type(u)) "
   ]
  },
  {
   "cell_type": "code",
   "execution_count": 23,
   "metadata": {},
   "outputs": [
    {
     "data": {
      "text/plain": [
       "(3,)"
      ]
     },
     "execution_count": 23,
     "metadata": {},
     "output_type": "execute_result"
    }
   ],
   "source": [
    "u_single_dim = np.array([1, 2, 3])\n",
    "u_single_dim.shape"
   ]
  },
  {
   "cell_type": "code",
   "execution_count": 24,
   "metadata": {},
   "outputs": [
    {
     "data": {
      "text/plain": [
       "array([[2, 3],\n",
       "       [5, 6]])"
      ]
     },
     "execution_count": 24,
     "metadata": {},
     "output_type": "execute_result"
    }
   ],
   "source": [
    "## Indexing\n",
    "X[:2, 1:3]"
   ]
  },
  {
   "cell_type": "code",
   "execution_count": 25,
   "metadata": {},
   "outputs": [
    {
     "data": {
      "text/latex": [
       "\n",
       "\\begin{align*}\n",
       "u.v = x_{1} y_{1} + x_{2} y_{2}\n",
       "\\end{align*}\n"
      ],
      "text/plain": [
       "<IPython.core.display.Latex object>"
      ]
     },
     "execution_count": 25,
     "metadata": {},
     "output_type": "execute_result"
    }
   ],
   "source": [
    "## Dot (or Inner) product\n",
    "Latex(r'''\n",
    "\\begin{align*}\n",
    "u.v = x_{1} y_{1} + x_{2} y_{2}\n",
    "\\end{align*}\n",
    "''')"
   ]
  },
  {
   "cell_type": "code",
   "execution_count": 26,
   "metadata": {},
   "outputs": [
    {
     "data": {
      "text/latex": [
       "\n",
       "\\begin{align*}\n",
       "u \\otimes v = u.v^T = \\begin{bmatrix}x_1\\\\x_2\\end{bmatrix}. \\begin{bmatrix}y_1 \\quad y_2\\end{bmatrix}\n",
       "=\\begin{bmatrix} x_1 y_1 \\quad x_1 y_2\\\\ x_2 y_1 \\quad x_2 y_2\\end{bmatrix}\n",
       "\\end{align*}\n"
      ],
      "text/plain": [
       "<IPython.core.display.Latex object>"
      ]
     },
     "execution_count": 26,
     "metadata": {},
     "output_type": "execute_result"
    }
   ],
   "source": [
    "## Outer product\n",
    "Latex(r'''\n",
    "\\begin{align*}\n",
    "u \\otimes v = u.v^T = \\begin{bmatrix}x_1\\\\x_2\\end{bmatrix}. \\begin{bmatrix}y_1 \\quad y_2\\end{bmatrix}\n",
    "=\\begin{bmatrix} x_1 y_1 \\quad x_1 y_2\\\\ x_2 y_1 \\quad x_2 y_2\\end{bmatrix}\n",
    "\\end{align*}\n",
    "'''\n",
    ")"
   ]
  },
  {
   "cell_type": "markdown",
   "metadata": {},
   "source": [
    "#### Matrix multiplication\n",
    "Matrix product is obtained by dot product between rows of first matrix and columns of second matrix. This is illustrated in the figure below.\n",
    "<figure>\n",
    "  <center>\n",
    "  <img src=\"fig/matmul.png\" width=\"700\" height=\"200\">\n",
    "  </center>\n",
    "</figure>"
   ]
  },
  {
   "cell_type": "code",
   "execution_count": 27,
   "metadata": {
    "collapsed": true
   },
   "outputs": [],
   "source": [
    "## Let us define a matrix Y\n",
    "Y = np.arange(15, dtype = float).reshape(3, 5)"
   ]
  },
  {
   "cell_type": "code",
   "execution_count": 28,
   "metadata": {},
   "outputs": [
    {
     "name": "stdout",
     "output_type": "stream",
     "text": [
      "Multiplied matrix:\n",
      "[[ 40.  46.  52.  58.  64.]\n",
      " [ 85. 100. 115. 130. 145.]\n",
      " [130. 154. 178. 202. 226.]]\n",
      "[[ 40.  46.  52.  58.  64.]\n",
      " [ 85. 100. 115. 130. 145.]\n",
      " [130. 154. 178. 202. 226.]]\n"
     ]
    }
   ],
   "source": [
    "print('Multiplied matrix:')\n",
    "print(np.matmul(X, Y)) # matrix multiplication of X and Y\n",
    "print(np.dot(X, Y)) ## same as matmul for 2-d matrices"
   ]
  },
  {
   "cell_type": "code",
   "execution_count": 30,
   "metadata": {},
   "outputs": [
    {
     "name": "stdout",
     "output_type": "stream",
     "text": [
      "[[14]\n",
      " [32]\n",
      " [50]]\n",
      "[[ 1  2  3]\n",
      " [ 8 10 12]\n",
      " [21 24 27]]\n",
      "[[ 1  2  3]\n",
      " [ 8 10 12]\n",
      " [21 24 27]]\n"
     ]
    }
   ],
   "source": [
    "## Dot product between a matrix and a vector\n",
    "print(np.dot(X, u))\n",
    "## Element wise operation\n",
    "print(np.multiply(X, u))\n",
    "print(X * u)"
   ]
  },
  {
   "cell_type": "code",
   "execution_count": 31,
   "metadata": {},
   "outputs": [
    {
     "name": "stdout",
     "output_type": "stream",
     "text": [
      "[[1 4 7]\n",
      " [2 5 8]\n",
      " [3 6 9]]\n",
      "\n",
      "[[1 2 3]]\n"
     ]
    }
   ],
   "source": [
    "### Transpose\n",
    "print(X.T) # transpose a matrix\n",
    "print()\n",
    "print(u.T) # transpose a vector"
   ]
  },
  {
   "cell_type": "code",
   "execution_count": 32,
   "metadata": {},
   "outputs": [
    {
     "name": "stdout",
     "output_type": "stream",
     "text": [
      "[[ 0.  1.  2.  3.  4.]\n",
      " [ 5.  6.  7.  8.  9.]\n",
      " [10. 11. 12. 13. 14.]]\n",
      "\n",
      "---\n",
      "[[0. 0. 0. 0.]\n",
      " [0. 0. 0. 0.]\n",
      " [0. 0. 0. 0.]]\n",
      "\n",
      "---\n",
      "[[[[1. 1. 1. 1.]\n",
      "   [1. 1. 1. 1.]\n",
      "   [1. 1. 1. 1.]]\n",
      "\n",
      "  [[1. 1. 1. 1.]\n",
      "   [1. 1. 1. 1.]\n",
      "   [1. 1. 1. 1.]]]]\n",
      "\n",
      "---\n",
      "[['' '' '']]\n",
      "\n",
      "---\n",
      "[[1. 0. 0.]\n",
      " [0. 1. 0.]\n",
      " [0. 0. 1.]]\n"
     ]
    }
   ],
   "source": [
    "## Special ways to create matrices\n",
    "print( np.arange(15, dtype = float).reshape(3, 5))\n",
    "print( \"\\n---\")\n",
    "\n",
    "print( np.zeros((3,4))) # all zeroes\n",
    "print( \"\\n---\")\n",
    "\n",
    "print( np.ones((1,2,3,4))) # all ones\n",
    "print( \"\\n---\")\n",
    "\n",
    "print( np.empty((1,3), dtype = str)) # empty\n",
    "print( \"\\n---\")\n",
    "\n",
    "print(np.eye(3))  # identity matrix of dimension 3"
   ]
  },
  {
   "cell_type": "code",
   "execution_count": 33,
   "metadata": {},
   "outputs": [
    {
     "name": "stdout",
     "output_type": "stream",
     "text": [
      "arange: [0.   0.25 0.5  0.75 1.   1.25 1.5  1.75]\n",
      "\n",
      "--\n",
      "lin Space: [0.         0.22222222 0.44444444 0.66666667 0.88888889 1.11111111\n",
      " 1.33333333 1.55555556 1.77777778 2.        ]\n"
     ]
    }
   ],
   "source": [
    "### Difference between arange and linspace\n",
    "\n",
    "print(\"arange:\", np.arange(0, 2, 0.25)) # Exclusive upper bound, provide step\n",
    "\n",
    "print(\"\\n--\")\n",
    "\n",
    "print(\"lin Space:\", np.linspace(0, 2, 10)) # (Can look like) inclusive upper bound, but not really, provide length\n"
   ]
  },
  {
   "cell_type": "code",
   "execution_count": 34,
   "metadata": {},
   "outputs": [
    {
     "name": "stdout",
     "output_type": "stream",
     "text": [
      "[20 29 38 47]\n",
      "[0 1 4 9]\n",
      "[ 9.12945251 -9.88031624  7.4511316  -2.62374854]\n",
      "[ True  True False False]\n"
     ]
    }
   ],
   "source": [
    "### Element-wise operations\n",
    "\n",
    "a = np.array( [20, 30, 40, 50] )\n",
    "b = np.arange( 4 )\n",
    "\n",
    "print(a-b)                  # Addition/Subtration \n",
    "\n",
    "print(b**2)                 # Exponentiation\n",
    "\n",
    "print(10*np.sin(a))         # Multiplication (!)\n",
    "\n",
    "print(a < 35)               # Boolean"
   ]
  },
  {
   "cell_type": "code",
   "execution_count": null,
   "metadata": {
    "collapsed": true
   },
   "outputs": [],
   "source": []
  }
 ],
 "metadata": {
  "kernelspec": {
   "display_name": "Python 3",
   "language": "python",
   "name": "python3"
  },
  "language_info": {
   "codemirror_mode": {
    "name": "ipython",
    "version": 3
   },
   "file_extension": ".py",
   "mimetype": "text/x-python",
   "name": "python",
   "nbconvert_exporter": "python",
   "pygments_lexer": "ipython3",
   "version": "3.6.1"
  }
 },
 "nbformat": 4,
 "nbformat_minor": 2
}
