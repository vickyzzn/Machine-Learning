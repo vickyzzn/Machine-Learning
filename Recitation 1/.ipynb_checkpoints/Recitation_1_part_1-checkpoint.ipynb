{
 "cells": [
  {
   "cell_type": "markdown",
   "metadata": {},
   "source": [
    "## Introduction\n",
    "\n",
    "Today we will cover some basic aspects of programming in python. Then we'll get to the usage of common libraries (modules) such as numpy, pandas, matplotlib and sklearn that would be useful throughout the course and beyond for machine learning/data science.\n",
    "\n"
   ]
  },
  {
   "cell_type": "markdown",
   "metadata": {},
   "source": [
    "### Installation \n",
    "\n",
    "There are several ways in which we could install python environment. Using Anaconda is the recommended way, because it comes with all the necesaary libraries bundled. The recitation uses Python 3.6.1, however you are free to choose your versions. Our recommendation is to use Python 3.x.x >= 3.5\n",
    "\n",
    "##### For Mac Users\n",
    "- Download sh file from https://repo.anaconda.com/archive/Anaconda3-5.3.1-MacOSX-x86_64.sh\n",
    "- Save the file to <your computer location>/Anaconda3-5.3.1-MacOSX-x86_64.sh\n",
    "- Run the following command on your terminal app\n",
    "    \"bash <your computer location>/Anaconda3-5.3.0-MacOSX-x86_64.sh\"\n",
    "- Install Anaconda to a location of your choice"
   ]
  },
  {
   "cell_type": "markdown",
   "metadata": {},
   "source": [
    "##### For Unix Users\n",
    "It is same as Mac users just source your .bashrc file after installation:\"source ~/.bashrc\"\n",
    "\n",
    "##### For Windows Users\n",
    "I have not tried on Windows. Download the installer file from https://www.anaconda.com/download/#windows \n",
    "- Its a GUI, you just need to follow the instructions. For details take a look at http://docs.anaconda.com/anaconda/install/windows/"
   ]
  },
  {
   "cell_type": "markdown",
   "metadata": {},
   "source": [
    "#### You can now write .py files and run those files using python command. However, for the purposes of this class we'll use Jupyter notebooks. Jupyter Notebook is a browser-based coding environment, used extensively for prototyping and interactive development in data science applications. However, notebooks are generally not used in production environment."
   ]
  },
  {
   "cell_type": "markdown",
   "metadata": {},
   "source": [
    "#### Python basics\n"
   ]
  },
  {
   "cell_type": "code",
   "execution_count": 1,
   "metadata": {},
   "outputs": [
    {
     "ename": "IndentationError",
     "evalue": "unexpected indent (<ipython-input-1-c238bc5e2fc9>, line 3)",
     "output_type": "error",
     "traceback": [
      "\u001b[0;36m  File \u001b[0;32m\"<ipython-input-1-c238bc5e2fc9>\"\u001b[0;36m, line \u001b[0;32m3\u001b[0m\n\u001b[0;31m    print(lst_of_numbers)\u001b[0m\n\u001b[0m    ^\u001b[0m\n\u001b[0;31mIndentationError\u001b[0m\u001b[0;31m:\u001b[0m unexpected indent\n"
     ]
    }
   ],
   "source": [
    "# Indentation makes code readable. In python indentation is must, it is part of syntax\n",
    "lst_of_numbers = [1, 2, 3, 4]  # Variable naming generally follows _, but you can use java style or any other that you like.\n",
    " print(lst_of_numbers)"
   ]
  },
  {
   "cell_type": "code",
   "execution_count": 2,
   "metadata": {},
   "outputs": [
    {
     "name": "stdout",
     "output_type": "stream",
     "text": [
      "[1, 2, 3, 4]\n"
     ]
    }
   ],
   "source": [
    "# This cell will not throw exceptions\n",
    "lst_of_numbers = [1, 2, 3, 4]  # Variable naming generally follows _, but you can use java style or any other that you like.\n",
    "print(lst_of_numbers)"
   ]
  },
  {
   "cell_type": "code",
   "execution_count": 3,
   "metadata": {},
   "outputs": [
    {
     "name": "stdout",
     "output_type": "stream",
     "text": [
      "1 is odd\n",
      "2 is even\n",
      "3 is odd\n",
      "4 is even\n",
      "All done.\n"
     ]
    }
   ],
   "source": [
    "# Variable are stored in the memory in a notebook\n",
    "for num in lst_of_numbers:\n",
    "    if (num % 2 == 0):\n",
    "        print(\"{} is even\".format(num))\n",
    "    else:\n",
    "        print(\"{} is odd\".format(num))\n",
    "print (\"All done.\")"
   ]
  },
  {
   "cell_type": "code",
   "execution_count": 4,
   "metadata": {
    "collapsed": true
   },
   "outputs": [],
   "source": [
    "#### Lists and tuples\n",
    "lst = [1, 2, 3, 4] # mutable: This means that the object can be udapted\n",
    "tup = (1, 2, 3, 4) # immutable. Useful for passing arguments to your methods, classes etc."
   ]
  },
  {
   "cell_type": "code",
   "execution_count": 6,
   "metadata": {},
   "outputs": [
    {
     "name": "stdout",
     "output_type": "stream",
     "text": [
      "Updated contents of list are [10, 2, 3, 4]\n"
     ]
    },
    {
     "ename": "TypeError",
     "evalue": "'tuple' object does not support item assignment",
     "output_type": "error",
     "traceback": [
      "\u001b[0;31m---------------------------------------------------------------------------\u001b[0m",
      "\u001b[0;31mTypeError\u001b[0m                                 Traceback (most recent call last)",
      "\u001b[0;32m<ipython-input-6-bcff6069dffe>\u001b[0m in \u001b[0;36m<module>\u001b[0;34m()\u001b[0m\n\u001b[1;32m      2\u001b[0m \u001b[0mlst\u001b[0m\u001b[0;34m[\u001b[0m\u001b[0;36m0\u001b[0m\u001b[0;34m]\u001b[0m \u001b[0;34m=\u001b[0m \u001b[0;36m10\u001b[0m\u001b[0;34m\u001b[0m\u001b[0m\n\u001b[1;32m      3\u001b[0m \u001b[0mprint\u001b[0m\u001b[0;34m(\u001b[0m\u001b[0;34m'Updated contents of list are {}'\u001b[0m\u001b[0;34m.\u001b[0m\u001b[0mformat\u001b[0m\u001b[0;34m(\u001b[0m\u001b[0mlst\u001b[0m\u001b[0;34m)\u001b[0m\u001b[0;34m)\u001b[0m \u001b[0;31m# prints because lists are mutable\u001b[0m\u001b[0;34m\u001b[0m\u001b[0m\n\u001b[0;32m----> 4\u001b[0;31m \u001b[0mtup\u001b[0m\u001b[0;34m[\u001b[0m\u001b[0;36m0\u001b[0m\u001b[0;34m]\u001b[0m \u001b[0;34m=\u001b[0m \u001b[0;36m10\u001b[0m \u001b[0;31m# This will throw exception since tuples are immutable\u001b[0m\u001b[0;34m\u001b[0m\u001b[0m\n\u001b[0m",
      "\u001b[0;31mTypeError\u001b[0m: 'tuple' object does not support item assignment"
     ]
    }
   ],
   "source": [
    "# Example of mutable and immutable\n",
    "lst[0] = 10 \n",
    "print('Updated contents of list are {}'.format(lst)) # prints because lists are mutable\n",
    "tup[0] = 10 # This will throw exception since tuples are immutable"
   ]
  },
  {
   "cell_type": "code",
   "execution_count": 7,
   "metadata": {},
   "outputs": [
    {
     "name": "stdout",
     "output_type": "stream",
     "text": [
      "lst is a type of <class 'list'>. It holds following values [10, 2, 3, 4]. len(lst) will give us its length: len(lst) = 4\n",
      "tup is a type of <class 'tuple'>. It holds following values (1, 2, 3, 4). len(tup) will give us its length: len(tup) = 4\n"
     ]
    }
   ],
   "source": [
    "print('lst is a type of {}. It holds following values {}. len(lst) will give us its length: len(lst) = {}'\n",
    "     .format(type(lst), lst, len(lst)))\n",
    "print('tup is a type of {}. It holds following values {}. len(tup) will give us its length: len(tup) = {}'\n",
    "     .format(type(tup), tup, len(tup)))"
   ]
  },
  {
   "cell_type": "code",
   "execution_count": 9,
   "metadata": {},
   "outputs": [
    {
     "data": {
      "text/plain": [
       "{'ECON': 'NA', 'MLPS': 12}"
      ]
     },
     "execution_count": 9,
     "metadata": {},
     "output_type": "execute_result"
    }
   ],
   "source": [
    "### Dictinaries: An important data-structure which stores (key,value) pairs\n",
    "spring_course_credits = {}\n",
    "spring_course_credits['MLPS'] = 12\n",
    "spring_course_credits['ECON'] = 'NA'\n",
    "\n",
    "spring_course_credits  # In a jupyter cell, if the last command is a variable name, \n",
    "                       # then the contents of that variable is displayed"
   ]
  },
  {
   "cell_type": "code",
   "execution_count": 10,
   "metadata": {},
   "outputs": [
    {
     "name": "stdout",
     "output_type": "stream",
     "text": [
      "MLPS is of 12 credits\n",
      "ECON is of NA credits\n"
     ]
    }
   ],
   "source": [
    "# Accessing key and value of a dictionary\n",
    "for key, val in spring_course_credits.items():\n",
    "    print('{} is of {} credits'.format(key, val))"
   ]
  },
  {
   "cell_type": "code",
   "execution_count": 11,
   "metadata": {},
   "outputs": [
    {
     "name": "stdout",
     "output_type": "stream",
     "text": [
      "Key:MLPS, Val:Awesome\n"
     ]
    }
   ],
   "source": [
    "#### Methods: functions in python\n",
    "def pretty_print(key, val):\n",
    "    print('Key:{}, Val:{}'.format(key, val))\n",
    "\n",
    "pretty_print('MLPS', 'Awesome')"
   ]
  },
  {
   "cell_type": "code",
   "execution_count": 14,
   "metadata": {},
   "outputs": [],
   "source": [
    "#### Classes in python: Useful for defining your own estimators, model configs and so on.\n",
    "class MyClass:\n",
    "    def __init__(self, n):\n",
    "        self.n = n  # by default public member\n",
    "        self.__private_n = n + n # private members are prepended by '__'\n",
    "    def get_members(self):\n",
    "        return self.n, self.__private_n"
   ]
  },
  {
   "cell_type": "code",
   "execution_count": 15,
   "metadata": {},
   "outputs": [
    {
     "name": "stdout",
     "output_type": "stream",
     "text": [
      "(1, 2)\n",
      "public: 1\n"
     ]
    },
    {
     "ename": "AttributeError",
     "evalue": "'MyClass' object has no attribute '__private_n'",
     "output_type": "error",
     "traceback": [
      "\u001b[0;31m---------------------------------------------------------------------------\u001b[0m",
      "\u001b[0;31mAttributeError\u001b[0m                            Traceback (most recent call last)",
      "\u001b[0;32m<ipython-input-15-18c3135943c5>\u001b[0m in \u001b[0;36m<module>\u001b[0;34m()\u001b[0m\n\u001b[1;32m      4\u001b[0m \u001b[0mprint\u001b[0m\u001b[0;34m(\u001b[0m\u001b[0ma\u001b[0m\u001b[0;34m.\u001b[0m\u001b[0mget_members\u001b[0m\u001b[0;34m(\u001b[0m\u001b[0;34m)\u001b[0m\u001b[0;34m)\u001b[0m\u001b[0;34m\u001b[0m\u001b[0m\n\u001b[1;32m      5\u001b[0m \u001b[0mprint\u001b[0m\u001b[0;34m(\u001b[0m\u001b[0;34m'public: {}'\u001b[0m\u001b[0;34m.\u001b[0m\u001b[0mformat\u001b[0m\u001b[0;34m(\u001b[0m\u001b[0ma\u001b[0m\u001b[0;34m.\u001b[0m\u001b[0mn\u001b[0m\u001b[0;34m)\u001b[0m\u001b[0;34m)\u001b[0m\u001b[0;34m\u001b[0m\u001b[0m\n\u001b[0;32m----> 6\u001b[0;31m \u001b[0mprint\u001b[0m\u001b[0;34m(\u001b[0m\u001b[0;34m'private: {}'\u001b[0m\u001b[0;34m.\u001b[0m\u001b[0mformat\u001b[0m\u001b[0;34m(\u001b[0m\u001b[0ma\u001b[0m\u001b[0;34m.\u001b[0m\u001b[0m__private_n\u001b[0m\u001b[0;34m)\u001b[0m\u001b[0;34m)\u001b[0m\u001b[0;34m\u001b[0m\u001b[0m\n\u001b[0m",
      "\u001b[0;31mAttributeError\u001b[0m: 'MyClass' object has no attribute '__private_n'"
     ]
    }
   ],
   "source": [
    "#### We will now instantiate the above defined class. This demonstrates how to instantiate, how to access public\n",
    "#### member, private member and what operations are not allowed.\n",
    "a = MyClass(1)\n",
    "print(a.get_members())\n",
    "print('public: {}'.format(a.n))\n",
    "print('private: {}'.format(a.__private_n))"
   ]
  },
  {
   "cell_type": "code",
   "execution_count": null,
   "metadata": {
    "collapsed": true
   },
   "outputs": [],
   "source": []
  }
 ],
 "metadata": {
  "kernelspec": {
   "display_name": "Python 3",
   "language": "python",
   "name": "python3"
  },
  "language_info": {
   "codemirror_mode": {
    "name": "ipython",
    "version": 3
   },
   "file_extension": ".py",
   "mimetype": "text/x-python",
   "name": "python",
   "nbconvert_exporter": "python",
   "pygments_lexer": "ipython3",
   "version": "3.6.8"
  }
 },
 "nbformat": 4,
 "nbformat_minor": 2
}
